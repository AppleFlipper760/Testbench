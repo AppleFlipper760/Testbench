{
  "nbformat": 4,
  "nbformat_minor": 0,
  "metadata": {
    "colab": {
      "provenance": [],
      "authorship_tag": "ABX9TyOXPZIDm+N8wm4wGIBllAMw",
      "include_colab_link": true
    },
    "kernelspec": {
      "name": "python3",
      "display_name": "Python 3"
    },
    "language_info": {
      "name": "python"
    }
  },
  "cells": [
    {
      "cell_type": "markdown",
      "metadata": {
        "id": "view-in-github",
        "colab_type": "text"
      },
      "source": [
        "<a href=\"https://colab.research.google.com/github/AppleFlipper760/Testbench/blob/main/testbench.ipynb\" target=\"_parent\"><img src=\"https://colab.research.google.com/assets/colab-badge.svg\" alt=\"Open In Colab\"/></a>"
      ]
    },
    {
      "cell_type": "code",
      "execution_count": 18,
      "metadata": {
        "id": "nhbqp-2b_tfE",
        "colab": {
          "base_uri": "https://localhost:8080/"
        },
        "outputId": "4e249214-5051-4772-da07-8045af5ef94a"
      },
      "outputs": [
        {
          "output_type": "stream",
          "name": "stdout",
          "text": [
            "Continue? (Enter 'n' to stop): y\n",
            "Continue? (Enter 'n' to stop): y\n",
            "Continue? (Enter 'n' to stop): y\n",
            "Continue? (Enter 'n' to stop): y\n",
            "Continue? (Enter 'n' to stop): y\n",
            "Continue? (Enter 'n' to stop): n\n",
            "Total runs: 6\n"
          ]
        }
      ],
      "source": [
        "runs = 0\n",
        "run = ''\n",
        "while run != 'n':\n",
        "    runs += 1\n",
        "    run = input(\"Continue? (Enter 'n' to stop): \")\n",
        "print(\"Total runs:\", runs)"
      ]
    }
  ]
}